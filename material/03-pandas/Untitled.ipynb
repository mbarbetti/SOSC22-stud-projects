{
 "cells": [
  {
   "cell_type": "code",
   "execution_count": 1,
   "id": "dfe1a44a-888a-4184-a595-519d1bf86689",
   "metadata": {},
   "outputs": [],
   "source": [
    "import numpy as np\n",
    "x = np.random.normal(0, 1, 100_000_000)"
   ]
  },
  {
   "cell_type": "code",
   "execution_count": 2,
   "id": "ee64669a-0714-465e-ba51-8439eec58e11",
   "metadata": {},
   "outputs": [],
   "source": [
    "def py_count(array, threshold):\n",
    "    counter = 0\n",
    "    for entry in array:\n",
    "        if entry > threshold:\n",
    "            counter += 1\n",
    "            \n",
    "    return counter"
   ]
  },
  {
   "cell_type": "code",
   "execution_count": 11,
   "id": "1c621e46-0050-4f1b-93b0-f8e5181bb355",
   "metadata": {},
   "outputs": [
    {
     "name": "stdout",
     "output_type": "stream",
     "text": [
      "2.2 s ± 17.8 ms per loop (mean ± std. dev. of 7 runs, 1 loop each)\n"
     ]
    }
   ],
   "source": [
    "%timeit py_count(x[:10_000_000], 4)"
   ]
  },
  {
   "cell_type": "code",
   "execution_count": 7,
   "id": "032014cf-2699-4151-81ae-a347fd017d1d",
   "metadata": {},
   "outputs": [],
   "source": [
    "def np_count(array, threshold):\n",
    "    above_threshold = array > threshold\n",
    "    return np.count_nonzero(above_threshold)"
   ]
  },
  {
   "cell_type": "code",
   "execution_count": 12,
   "id": "d82782d7-d552-46d4-9afe-bedc2c08b62b",
   "metadata": {},
   "outputs": [
    {
     "name": "stdout",
     "output_type": "stream",
     "text": [
      "7.25 ms ± 186 µs per loop (mean ± std. dev. of 7 runs, 100 loops each)\n"
     ]
    }
   ],
   "source": [
    "%timeit np_count(x[:10_000_000], 4)"
   ]
  },
  {
   "cell_type": "code",
   "execution_count": 15,
   "id": "ecc9dbca-44b8-43a8-82f1-01f1cf8f68bf",
   "metadata": {},
   "outputs": [],
   "source": [
    "print(\"\"\"\n",
    "\n",
    "extern \"C\"\n",
    "int c_count(int len, double* array, double threshold)\n",
    "{\n",
    "    int i;\n",
    "    int counter = 0;\n",
    "    \n",
    "    for (i = 0; i < len; ++i)\n",
    "        if (array[i] > threshold)\n",
    "            counter ++;\n",
    "            \n",
    "    return counter;\n",
    "}\n",
    "\"\"\", file=open(\"source.C\", \"w\"))\n",
    "\n",
    "!gcc source.C -o mylib.so -fPIC --shared"
   ]
  },
  {
   "cell_type": "code",
   "execution_count": 20,
   "id": "74ee5a6d-a702-414a-bc89-86ac30e1358e",
   "metadata": {},
   "outputs": [
    {
     "name": "stdout",
     "output_type": "stream",
     "text": [
      "gcc (Ubuntu 11.2.0-19ubuntu1) 11.2.0\n",
      "Copyright (C) 2021 Free Software Foundation, Inc.\n",
      "This is free software; see the source for copying conditions.  There is NO\n",
      "warranty; not even for MERCHANTABILITY or FITNESS FOR A PARTICULAR PURPOSE.\n",
      "\n"
     ]
    }
   ],
   "source": [
    "!gcc --version"
   ]
  },
  {
   "cell_type": "code",
   "execution_count": 16,
   "id": "45c54429-37b2-4c67-ab87-cc73dfbc9378",
   "metadata": {},
   "outputs": [
    {
     "name": "stdout",
     "output_type": "stream",
     "text": [
      "my-first-file.txt  SOSC22-livesessions\tstorage_ex.ipynb   Untitled.ipynb\n",
      "mylib.so\t   source.C\t\ttest-download.txt\n"
     ]
    }
   ],
   "source": [
    "!ls"
   ]
  },
  {
   "cell_type": "code",
   "execution_count": 17,
   "id": "83140be5-0b45-46d2-b0e1-bc7a3f562046",
   "metadata": {},
   "outputs": [
    {
     "data": {
      "text/plain": [
       "<_FuncPtr object at 0x7fc8a012b870>"
      ]
     },
     "execution_count": 17,
     "metadata": {},
     "output_type": "execute_result"
    }
   ],
   "source": [
    "import ctypes\n",
    "\n",
    "mylib = ctypes.CDLL(\"./mylib.so\")\n",
    "mylib.c_count"
   ]
  },
  {
   "cell_type": "code",
   "execution_count": 18,
   "id": "c9bd832d-872f-4d06-88de-936f42f6dd32",
   "metadata": {},
   "outputs": [],
   "source": [
    "mylib.c_count.restype = ctypes.c_int\n",
    "mylib.c_count.argtypes = [\n",
    "    ctypes.c_int,\n",
    "    np.ctypeslib.ndpointer(np.float64),\n",
    "    ctypes.c_double\n",
    "]"
   ]
  },
  {
   "cell_type": "code",
   "execution_count": 21,
   "id": "a8254079-3c40-4027-a73e-d01be71c55a0",
   "metadata": {},
   "outputs": [
    {
     "name": "stdout",
     "output_type": "stream",
     "text": [
      "249 ms ± 531 µs per loop (mean ± std. dev. of 7 runs, 1 loop each)\n"
     ]
    }
   ],
   "source": [
    "%timeit mylib.c_count(len(x), x, 4)"
   ]
  },
  {
   "cell_type": "code",
   "execution_count": 22,
   "id": "b23cb961-a28f-466d-b654-88ff0b2adf10",
   "metadata": {},
   "outputs": [
    {
     "name": "stdout",
     "output_type": "stream",
     "text": [
      "89.7 ms ± 8.43 ms per loop (mean ± std. dev. of 7 runs, 10 loops each)\n"
     ]
    }
   ],
   "source": [
    "%timeit np_count(x, 4)"
   ]
  },
  {
   "cell_type": "code",
   "execution_count": null,
   "id": "b3f2f2d3-b03a-491d-a0d2-678dab9e7313",
   "metadata": {},
   "outputs": [],
   "source": []
  }
 ],
 "metadata": {
  "kernelspec": {
   "display_name": "Python 3 (ipykernel)",
   "language": "python",
   "name": "python3"
  },
  "language_info": {
   "codemirror_mode": {
    "name": "ipython",
    "version": 3
   },
   "file_extension": ".py",
   "mimetype": "text/x-python",
   "name": "python",
   "nbconvert_exporter": "python",
   "pygments_lexer": "ipython3",
   "version": "3.7.12"
  }
 },
 "nbformat": 4,
 "nbformat_minor": 5
}
