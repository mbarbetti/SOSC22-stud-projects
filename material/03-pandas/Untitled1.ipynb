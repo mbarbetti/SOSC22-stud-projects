{
 "cells": [
  {
   "cell_type": "code",
   "execution_count": 1,
   "id": "17325c67-f4f5-4f24-b6b0-3d6d5c9041b5",
   "metadata": {},
   "outputs": [],
   "source": [
    "class City:\n",
    "    def __init__(self, name, region):\n",
    "        self.name = name\n",
    "        self.region = region\n",
    "        \n",
    "cities = [\n",
    "    City(\"Perugia\", \"Umbria\"),\n",
    "    City(\"Bologna\", \"Emilia-Romagna\"),\n",
    "    City(\"Florence\", \"Toscana\")\n",
    "]"
   ]
  },
  {
   "cell_type": "code",
   "execution_count": 2,
   "id": "dae3e7ee-8b4d-438c-a6b0-3fa5ea9d59b5",
   "metadata": {},
   "outputs": [],
   "source": [
    "class Food:\n",
    "    def __init__(self,\n",
    "                 name,\n",
    "                 has_flour=False,\n",
    "                 has_tomato=False,\n",
    "                 served_hot=False):\n",
    "        self.name = name\n",
    "        self.has_flour = has_flour\n",
    "        self.has_tomato = has_tomato\n",
    "        self.served_hot = served_hot\n",
    "\n",
    "tagliatella = Food(\"tagliatella\", has_flour=True, has_tomato=True, served_hot=True)\n",
    "torta_al_testo = Food(\"torta al testo\", has_flour=True, has_tomato=False, served_hot=False)\n",
    "bistecca = Food(\"bistecca\", has_flour=False, has_tomato=False, served_hot=True)"
   ]
  },
  {
   "cell_type": "code",
   "execution_count": 3,
   "id": "33345360-4f86-406a-85da-a511e5cb819c",
   "metadata": {},
   "outputs": [],
   "source": [
    "class City_with_food(City):\n",
    "    def __init__(self, name, region, foods):\n",
    "        super().__init__(name, region)\n",
    "        self.foods = foods\n",
    "        \n",
    "cities = [\n",
    "    City_with_food(\"Perugia\", \"Umbria\", [tagliatella, torta_al_testo]),\n",
    "    City_with_food(\"Bologna\", \"Emilia-Romagna\", [tagliatella]),\n",
    "    City_with_food(\"Florence\", \"Toscana\", [bistecca])\n",
    "]"
   ]
  },
  {
   "cell_type": "code",
   "execution_count": 4,
   "id": "bf71fdfb-f477-4992-87b8-2662028d591e",
   "metadata": {},
   "outputs": [
    {
     "data": {
      "text/plain": [
       "['Umbria', 'Emilia-Romagna']"
      ]
     },
     "execution_count": 4,
     "metadata": {},
     "output_type": "execute_result"
    }
   ],
   "source": [
    "tomato_regions = list()\n",
    "\n",
    "for city in cities:\n",
    "    for food in city.foods:\n",
    "        if food.has_tomato:\n",
    "            tomato_regions.append(city.region)\n",
    "            \n",
    "tomato_regions"
   ]
  },
  {
   "cell_type": "code",
   "execution_count": 5,
   "id": "7b5458e0-d6b7-438b-a653-2ec1afa44dcd",
   "metadata": {},
   "outputs": [
    {
     "data": {
      "text/html": [
       "<div>\n",
       "<style scoped>\n",
       "    .dataframe tbody tr th:only-of-type {\n",
       "        vertical-align: middle;\n",
       "    }\n",
       "\n",
       "    .dataframe tbody tr th {\n",
       "        vertical-align: top;\n",
       "    }\n",
       "\n",
       "    .dataframe thead th {\n",
       "        text-align: right;\n",
       "    }\n",
       "</style>\n",
       "<table border=\"1\" class=\"dataframe\">\n",
       "  <thead>\n",
       "    <tr style=\"text-align: right;\">\n",
       "      <th></th>\n",
       "      <th>city_name</th>\n",
       "      <th>region</th>\n",
       "    </tr>\n",
       "  </thead>\n",
       "  <tbody>\n",
       "    <tr>\n",
       "      <th>0</th>\n",
       "      <td>Perugia</td>\n",
       "      <td>Umbria</td>\n",
       "    </tr>\n",
       "    <tr>\n",
       "      <th>1</th>\n",
       "      <td>Bologna</td>\n",
       "      <td>Emilia-Romagna</td>\n",
       "    </tr>\n",
       "    <tr>\n",
       "      <th>2</th>\n",
       "      <td>Florence</td>\n",
       "      <td>Toscana</td>\n",
       "    </tr>\n",
       "  </tbody>\n",
       "</table>\n",
       "</div>"
      ],
      "text/plain": [
       "  city_name          region\n",
       "0   Perugia          Umbria\n",
       "1   Bologna  Emilia-Romagna\n",
       "2  Florence         Toscana"
      ]
     },
     "execution_count": 5,
     "metadata": {},
     "output_type": "execute_result"
    }
   ],
   "source": [
    "import pandas as pd\n",
    "\n",
    "city_df = pd.DataFrame([\n",
    "    {\"city_name\" : \"Perugia\", \"region\" : \"Umbria\"},\n",
    "    {\"city_name\" : \"Bologna\", \"region\" : \"Emilia-Romagna\"},\n",
    "    {\"city_name\" : \"Florence\", \"region\" : \"Toscana\"}\n",
    "])\n",
    "\n",
    "city_df"
   ]
  },
  {
   "cell_type": "code",
   "execution_count": 7,
   "id": "a94d24ca-e67d-4e13-a60c-06c8d5fee048",
   "metadata": {},
   "outputs": [
    {
     "data": {
      "text/html": [
       "<div>\n",
       "<style scoped>\n",
       "    .dataframe tbody tr th:only-of-type {\n",
       "        vertical-align: middle;\n",
       "    }\n",
       "\n",
       "    .dataframe tbody tr th {\n",
       "        vertical-align: top;\n",
       "    }\n",
       "\n",
       "    .dataframe thead th {\n",
       "        text-align: right;\n",
       "    }\n",
       "</style>\n",
       "<table border=\"1\" class=\"dataframe\">\n",
       "  <thead>\n",
       "    <tr style=\"text-align: right;\">\n",
       "      <th></th>\n",
       "      <th>food_name</th>\n",
       "      <th>has_flour</th>\n",
       "      <th>has_tomato</th>\n",
       "      <th>served_hot</th>\n",
       "    </tr>\n",
       "  </thead>\n",
       "  <tbody>\n",
       "    <tr>\n",
       "      <th>0</th>\n",
       "      <td>tagliatella</td>\n",
       "      <td>True</td>\n",
       "      <td>True</td>\n",
       "      <td>True</td>\n",
       "    </tr>\n",
       "    <tr>\n",
       "      <th>1</th>\n",
       "      <td>torta al testo</td>\n",
       "      <td>True</td>\n",
       "      <td>False</td>\n",
       "      <td>False</td>\n",
       "    </tr>\n",
       "    <tr>\n",
       "      <th>2</th>\n",
       "      <td>baci perugina</td>\n",
       "      <td>False</td>\n",
       "      <td>False</td>\n",
       "      <td>False</td>\n",
       "    </tr>\n",
       "    <tr>\n",
       "      <th>3</th>\n",
       "      <td>bistecca</td>\n",
       "      <td>False</td>\n",
       "      <td>False</td>\n",
       "      <td>True</td>\n",
       "    </tr>\n",
       "  </tbody>\n",
       "</table>\n",
       "</div>"
      ],
      "text/plain": [
       "        food_name  has_flour  has_tomato  served_hot\n",
       "0     tagliatella       True        True        True\n",
       "1  torta al testo       True       False       False\n",
       "2   baci perugina      False       False       False\n",
       "3        bistecca      False       False        True"
      ]
     },
     "execution_count": 7,
     "metadata": {},
     "output_type": "execute_result"
    }
   ],
   "source": [
    "food_df = pd.DataFrame(\n",
    "    [\n",
    "        [\"tagliatella\", True, True, True],\n",
    "        [\"torta al testo\", True, False, False],\n",
    "        [\"baci perugina\", False, False, False],\n",
    "        [\"bistecca\", False, False, True]\n",
    "    ], columns=[\"food_name\", \"has_flour\", \"has_tomato\", \"served_hot\"]\n",
    ")\n",
    "\n",
    "food_df"
   ]
  },
  {
   "cell_type": "code",
   "execution_count": 8,
   "id": "494539ac-5a84-4c7a-9bc3-e844854bb97e",
   "metadata": {},
   "outputs": [
    {
     "data": {
      "text/html": [
       "<div>\n",
       "<style scoped>\n",
       "    .dataframe tbody tr th:only-of-type {\n",
       "        vertical-align: middle;\n",
       "    }\n",
       "\n",
       "    .dataframe tbody tr th {\n",
       "        vertical-align: top;\n",
       "    }\n",
       "\n",
       "    .dataframe thead th {\n",
       "        text-align: right;\n",
       "    }\n",
       "</style>\n",
       "<table border=\"1\" class=\"dataframe\">\n",
       "  <thead>\n",
       "    <tr style=\"text-align: right;\">\n",
       "      <th></th>\n",
       "      <th>city_name</th>\n",
       "      <th>food_name</th>\n",
       "    </tr>\n",
       "  </thead>\n",
       "  <tbody>\n",
       "    <tr>\n",
       "      <th>0</th>\n",
       "      <td>Perugia</td>\n",
       "      <td>tagliatella</td>\n",
       "    </tr>\n",
       "    <tr>\n",
       "      <th>1</th>\n",
       "      <td>Perugia</td>\n",
       "      <td>torta al testo</td>\n",
       "    </tr>\n",
       "    <tr>\n",
       "      <th>2</th>\n",
       "      <td>Bologna</td>\n",
       "      <td>tagliatella</td>\n",
       "    </tr>\n",
       "    <tr>\n",
       "      <th>3</th>\n",
       "      <td>Florence</td>\n",
       "      <td>bistecca</td>\n",
       "    </tr>\n",
       "    <tr>\n",
       "      <th>4</th>\n",
       "      <td>Perugia</td>\n",
       "      <td>baci perugina</td>\n",
       "    </tr>\n",
       "  </tbody>\n",
       "</table>\n",
       "</div>"
      ],
      "text/plain": [
       "  city_name       food_name\n",
       "0   Perugia     tagliatella\n",
       "1   Perugia  torta al testo\n",
       "2   Bologna     tagliatella\n",
       "3  Florence        bistecca\n",
       "4   Perugia   baci perugina"
      ]
     },
     "execution_count": 8,
     "metadata": {},
     "output_type": "execute_result"
    }
   ],
   "source": [
    "relations = pd.DataFrame(\n",
    "    [\n",
    "        [\"Perugia\", \"tagliatella\"],\n",
    "        [\"Perugia\", \"torta al testo\"],\n",
    "        [\"Bologna\", \"tagliatella\"],\n",
    "        [\"Florence\", \"bistecca\"],\n",
    "        [\"Perugia\", \"baci perugina\"]\n",
    "    ], columns=[\"city_name\", \"food_name\"]\n",
    ")\n",
    "\n",
    "relations"
   ]
  },
  {
   "cell_type": "code",
   "execution_count": 13,
   "id": "5dea2f27-1fa7-41ba-8a05-ce965fd6fb47",
   "metadata": {},
   "outputs": [
    {
     "data": {
      "text/plain": [
       "0            Umbria\n",
       "1    Emilia-Romagna\n",
       "Name: region, dtype: object"
      ]
     },
     "execution_count": 13,
     "metadata": {},
     "output_type": "execute_result"
    }
   ],
   "source": [
    "(\n",
    "    city_df\n",
    "    .merge(relations, on=\"city_name\")\n",
    "    .merge(food_df, on=\"food_name\")\n",
    "    .query(\"has_tomato\")\n",
    "    [\"region\"]\n",
    ")"
   ]
  },
  {
   "cell_type": "code",
   "execution_count": null,
   "id": "8ee5292c-1c8f-419a-8489-350d6bfc65e0",
   "metadata": {},
   "outputs": [],
   "source": []
  }
 ],
 "metadata": {
  "kernelspec": {
   "display_name": "Python 3 (ipykernel)",
   "language": "python",
   "name": "python3"
  },
  "language_info": {
   "codemirror_mode": {
    "name": "ipython",
    "version": 3
   },
   "file_extension": ".py",
   "mimetype": "text/x-python",
   "name": "python",
   "nbconvert_exporter": "python",
   "pygments_lexer": "ipython3",
   "version": "3.7.12"
  }
 },
 "nbformat": 4,
 "nbformat_minor": 5
}
