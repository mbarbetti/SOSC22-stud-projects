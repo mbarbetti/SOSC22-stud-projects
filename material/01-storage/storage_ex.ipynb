{
 "cells": [
  {
   "cell_type": "markdown",
   "id": "8be130fd-b285-4dcd-9c69-7f94e7c1485c",
   "metadata": {},
   "source": [
    "# Storage management hands-on"
   ]
  },
  {
   "cell_type": "markdown",
   "id": "92d8ef22-5dd9-4105-8387-ea0e3323fca4",
   "metadata": {},
   "source": [
    "## Setting up your S3 client\n",
    "\n"
   ]
  },
  {
   "cell_type": "code",
   "execution_count": 1,
   "id": "a72dd4c3-665d-46ff-abd8-f9809fb8a5a8",
   "metadata": {},
   "outputs": [
    {
     "name": "stdout",
     "output_type": "stream",
     "text": [
      "Username: mbarbetti\n",
      "password: 2d395adc030073dfa490107d2e26ad69\n"
     ]
    }
   ],
   "source": [
    "import hashlib\n",
    "import os\n",
    "username = os.environ['JUPYTERHUB_USER']\n",
    "hash_object = hashlib.md5(f'{username}'.encode())\n",
    "password = hash_object.hexdigest()\n",
    "print(f\"Username: {username}\\npassword: {password}\")"
   ]
  },
  {
   "cell_type": "code",
   "execution_count": 2,
   "id": "3fa34aa8-ec17-4fab-9c3d-c4bd0dd0fa92",
   "metadata": {},
   "outputs": [],
   "source": [
    "import boto3\n",
    "\n",
    "s3 = boto3.resource(\n",
    "    's3',\n",
    "    endpoint_url=\"https://minio.131.154.96.42.myip.cloud.infn.it\",\n",
    "    aws_access_key_id=username,\n",
    "    aws_secret_access_key=password\n",
    ")"
   ]
  },
  {
   "cell_type": "code",
   "execution_count": 4,
   "id": "39e5cf7c-75c7-4042-94e5-421a83b88037",
   "metadata": {},
   "outputs": [
    {
     "name": "stdout",
     "output_type": "stream",
     "text": [
      "ahmadalkhansa\n",
      "An error occurred (AccessDenied) when calling the ListObjects operation: Access Denied.\n",
      "am980009\n",
      "An error occurred (AccessDenied) when calling the ListObjects operation: Access Denied.\n",
      "apascolini\n",
      "An error occurred (AccessDenied) when calling the ListObjects operation: Access Denied.\n",
      "biancoj\n",
      "An error occurred (AccessDenied) when calling the ListObjects operation: Access Denied.\n",
      "carloskez\n",
      "An error occurred (AccessDenied) when calling the ListObjects operation: Access Denied.\n",
      "davide\n",
      "An error occurred (AccessDenied) when calling the ListObjects operation: Access Denied.\n",
      "dciangot\n",
      "An error occurred (AccessDenied) when calling the ListObjects operation: Access Denied.\n",
      "dlattanzio\n",
      "An error occurred (AccessDenied) when calling the ListObjects operation: Access Denied.\n",
      "dspiga\n",
      "An error occurred (AccessDenied) when calling the ListObjects operation: Access Denied.\n",
      "enrica82\n",
      "An error occurred (AccessDenied) when calling the ListObjects operation: Access Denied.\n",
      "fabrizi\n",
      "An error occurred (AccessDenied) when calling the ListObjects operation: Access Denied.\n",
      "federicosabbatini\n",
      "An error occurred (AccessDenied) when calling the ListObjects operation: Access Denied.\n",
      "filippos92\n",
      "An error occurred (AccessDenied) when calling the ListObjects operation: Access Denied.\n",
      "fsinisi\n",
      "An error occurred (AccessDenied) when calling the ListObjects operation: Access Denied.\n",
      "gabriele.infante\n",
      "An error occurred (AccessDenied) when calling the ListObjects operation: Access Denied.\n",
      "gsavares\n",
      "An error occurred (AccessDenied) when calling the ListObjects operation: Access Denied.\n",
      "jgasparetto\n",
      "An error occurred (AccessDenied) when calling the ListObjects operation: Access Denied.\n",
      "landerli\n",
      "An error occurred (AccessDenied) when calling the ListObjects operation: Access Denied.\n",
      "lucascr\n",
      "An error occurred (AccessDenied) when calling the ListObjects operation: Access Denied.\n",
      "marcato\n",
      "An error occurred (AccessDenied) when calling the ListObjects operation: Access Denied.\n",
      "mbarbetti\n",
      "######\n",
      "test/1706.03762.pdf\n",
      "######\n",
      "nasrin\n",
      "An error occurred (AccessDenied) when calling the ListObjects operation: Access Denied.\n",
      "paccagnella\n",
      "An error occurred (AccessDenied) when calling the ListObjects operation: Access Denied.\n",
      "public\n",
      "An error occurred (AccessDenied) when calling the ListObjects operation: Access Denied.\n",
      "surax\n",
      "An error occurred (AccessDenied) when calling the ListObjects operation: Access Denied.\n",
      "test\n",
      "An error occurred (AccessDenied) when calling the ListObjects operation: Access Denied.\n",
      "ttedesch\n",
      "An error occurred (AccessDenied) when calling the ListObjects operation: Access Denied.\n",
      "zfaniry\n",
      "An error occurred (AccessDenied) when calling the ListObjects operation: Access Denied.\n"
     ]
    }
   ],
   "source": [
    "for bucket in s3.buckets.all():\n",
    "    print(bucket.name)\n",
    "    bucket = s3.Bucket(bucket.name)\n",
    "    try:\n",
    "        for obj in bucket.objects.filter(Prefix=''):\n",
    "            print(\"######\")\n",
    "            print(obj.key)\n",
    "            print(\"######\")\n",
    "    except Exception as ex:\n",
    "        print(ex)\n"
   ]
  },
  {
   "cell_type": "markdown",
   "id": "67b349ca-6ef9-4e55-8f03-3a1319d9a6af",
   "metadata": {},
   "source": [
    "## Now Create a file"
   ]
  },
  {
   "cell_type": "code",
   "execution_count": 5,
   "id": "45f669a9-3017-45d6-92a2-a5671f59005f",
   "metadata": {},
   "outputs": [],
   "source": [
    "file_name = 'my-first-file.txt'\n",
    "if os.path.exists(file_name):\n",
    "    print('file already exists')\n",
    "else:\n",
    "    # create a file\n",
    "    with open(file_name, 'w') as fp:\n",
    "         fp.write('This is my first line')"
   ]
  },
  {
   "cell_type": "markdown",
   "id": "901231fc-3f9a-42dc-8e85-983341a23d6e",
   "metadata": {},
   "source": [
    "## Upload you first file\n"
   ]
  },
  {
   "cell_type": "code",
   "execution_count": 6,
   "id": "64aa5479-5ade-4e55-96ec-a64508d64b0f",
   "metadata": {},
   "outputs": [
    {
     "data": {
      "text/plain": [
       "s3.Object(bucket_name='mbarbetti', key='my-first-file.txt')"
      ]
     },
     "execution_count": 6,
     "metadata": {},
     "output_type": "execute_result"
    }
   ],
   "source": [
    "data = open('my-first-file.txt', 'rb')\n",
    "s3.Bucket(username).put_object(Key='my-first-file.txt', Body=data)"
   ]
  },
  {
   "cell_type": "markdown",
   "id": "52c1c92a-5214-4326-9718-3acf93e82773",
   "metadata": {},
   "source": [
    "## Download a file"
   ]
  },
  {
   "cell_type": "code",
   "execution_count": 7,
   "id": "6dc65e95-89c7-45d5-a4fd-14e77a2e0f6c",
   "metadata": {},
   "outputs": [],
   "source": [
    "s3.Bucket(username).download_file('my-first-file.txt','test-download.txt')"
   ]
  },
  {
   "cell_type": "markdown",
   "id": "7c33f301-7eef-4900-9f5e-cd590b47c306",
   "metadata": {},
   "source": [
    "## Get a url where to download file (presigned URL)\n",
    "\n",
    "From the share tab of the WebUI you can retrieve a URL that can be used by any HTTP compliant client (e.g. pandas read_csv)"
   ]
  }
 ],
 "metadata": {
  "kernelspec": {
   "display_name": "Python 3 (ipykernel)",
   "language": "python",
   "name": "python3"
  },
  "language_info": {
   "codemirror_mode": {
    "name": "ipython",
    "version": 3
   },
   "file_extension": ".py",
   "mimetype": "text/x-python",
   "name": "python",
   "nbconvert_exporter": "python",
   "pygments_lexer": "ipython3",
   "version": "3.7.12"
  }
 },
 "nbformat": 4,
 "nbformat_minor": 5
}
