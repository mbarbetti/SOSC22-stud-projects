{
 "cells": [
  {
   "cell_type": "markdown",
   "id": "5586ee9b-618e-4019-88c7-46259ad20725",
   "metadata": {},
   "source": [
    "# Final project: Dask execution\n",
    "\n",
    "At this time you are going to adapt your preprocessing code (of the first part) to be distributed via DASK.\n",
    "\n",
    "We will instantiate 2 different kind of DASK clusters:\n",
    "- a local one, distributing task on the 2 threads of this jupyterlab instance\n",
    "- a multi node one, consisting of 6 single thread worker nodes\n",
    "\n",
    "We will then compare the performances, and, hopefully, observing some improvements\n",
    "\n",
    "## Multi node cluster"
   ]
  },
  {
   "cell_type": "markdown",
   "id": "d873cf81-ccad-47c8-b9de-bd73c737fc88",
   "metadata": {},
   "source": [
    "## Initiate a local Dask scheduler on this machine"
   ]
  },
  {
   "cell_type": "code",
   "execution_count": 1,
   "id": "e149a13f-6d9a-4152-a003-646dbd9dd767",
   "metadata": {},
   "outputs": [
    {
     "data": {
      "text/html": [
       "<div>\n",
       "    <div style=\"width: 24px; height: 24px; background-color: #e1e1e1; border: 3px solid #9D9D9D; border-radius: 5px; position: absolute;\"> </div>\n",
       "    <div style=\"margin-left: 48px;\">\n",
       "        <h3 style=\"margin-bottom: 0px;\">Client</h3>\n",
       "        <p style=\"color: #9D9D9D; margin-bottom: 0px;\">Client-f50cfa5b-7196-11ed-83ae-fa4af0568f72</p>\n",
       "        <table style=\"width: 100%; text-align: left;\">\n",
       "\n",
       "        <tr>\n",
       "        \n",
       "            <td style=\"text-align: left;\"><strong>Connection method:</strong> Cluster object</td>\n",
       "            <td style=\"text-align: left;\"><strong>Cluster type:</strong> distributed.LocalCluster</td>\n",
       "        \n",
       "        </tr>\n",
       "\n",
       "        \n",
       "            <tr>\n",
       "                <td style=\"text-align: left;\">\n",
       "                    <strong>Dashboard: </strong> <a href=\"http://127.0.0.1:8787/status\" target=\"_blank\">http://127.0.0.1:8787/status</a>\n",
       "                </td>\n",
       "                <td style=\"text-align: left;\"></td>\n",
       "            </tr>\n",
       "        \n",
       "\n",
       "        </table>\n",
       "\n",
       "        \n",
       "\n",
       "        \n",
       "            <details>\n",
       "            <summary style=\"margin-bottom: 20px;\"><h3 style=\"display: inline;\">Cluster Info</h3></summary>\n",
       "            <div class=\"jp-RenderedHTMLCommon jp-RenderedHTML jp-mod-trusted jp-OutputArea-output\">\n",
       "    <div style=\"width: 24px; height: 24px; background-color: #e1e1e1; border: 3px solid #9D9D9D; border-radius: 5px; position: absolute;\">\n",
       "    </div>\n",
       "    <div style=\"margin-left: 48px;\">\n",
       "        <h3 style=\"margin-bottom: 0px; margin-top: 0px;\">LocalCluster</h3>\n",
       "        <p style=\"color: #9D9D9D; margin-bottom: 0px;\">6fa23857</p>\n",
       "        <table style=\"width: 100%; text-align: left;\">\n",
       "            <tr>\n",
       "                <td style=\"text-align: left;\">\n",
       "                    <strong>Dashboard:</strong> <a href=\"http://127.0.0.1:8787/status\" target=\"_blank\">http://127.0.0.1:8787/status</a>\n",
       "                </td>\n",
       "                <td style=\"text-align: left;\">\n",
       "                    <strong>Workers:</strong> 3\n",
       "                </td>\n",
       "            </tr>\n",
       "            <tr>\n",
       "                <td style=\"text-align: left;\">\n",
       "                    <strong>Total threads:</strong> 3\n",
       "                </td>\n",
       "                <td style=\"text-align: left;\">\n",
       "                    <strong>Total memory:</strong> 4.39 GiB\n",
       "                </td>\n",
       "            </tr>\n",
       "            \n",
       "            <tr>\n",
       "    <td style=\"text-align: left;\"><strong>Status:</strong> running</td>\n",
       "    <td style=\"text-align: left;\"><strong>Using processes:</strong> True</td>\n",
       "</tr>\n",
       "\n",
       "            \n",
       "        </table>\n",
       "\n",
       "        <details>\n",
       "            <summary style=\"margin-bottom: 20px;\">\n",
       "                <h3 style=\"display: inline;\">Scheduler Info</h3>\n",
       "            </summary>\n",
       "\n",
       "            <div style=\"\">\n",
       "    <div>\n",
       "        <div style=\"width: 24px; height: 24px; background-color: #FFF7E5; border: 3px solid #FF6132; border-radius: 5px; position: absolute;\"> </div>\n",
       "        <div style=\"margin-left: 48px;\">\n",
       "            <h3 style=\"margin-bottom: 0px;\">Scheduler</h3>\n",
       "            <p style=\"color: #9D9D9D; margin-bottom: 0px;\">Scheduler-05cbecd1-fe00-43e8-9cbc-a46de5ebdcdc</p>\n",
       "            <table style=\"width: 100%; text-align: left;\">\n",
       "                <tr>\n",
       "                    <td style=\"text-align: left;\">\n",
       "                        <strong>Comm:</strong> tcp://127.0.0.1:38985\n",
       "                    </td>\n",
       "                    <td style=\"text-align: left;\">\n",
       "                        <strong>Workers:</strong> 3\n",
       "                    </td>\n",
       "                </tr>\n",
       "                <tr>\n",
       "                    <td style=\"text-align: left;\">\n",
       "                        <strong>Dashboard:</strong> <a href=\"http://127.0.0.1:8787/status\" target=\"_blank\">http://127.0.0.1:8787/status</a>\n",
       "                    </td>\n",
       "                    <td style=\"text-align: left;\">\n",
       "                        <strong>Total threads:</strong> 3\n",
       "                    </td>\n",
       "                </tr>\n",
       "                <tr>\n",
       "                    <td style=\"text-align: left;\">\n",
       "                        <strong>Started:</strong> Just now\n",
       "                    </td>\n",
       "                    <td style=\"text-align: left;\">\n",
       "                        <strong>Total memory:</strong> 4.39 GiB\n",
       "                    </td>\n",
       "                </tr>\n",
       "            </table>\n",
       "        </div>\n",
       "    </div>\n",
       "\n",
       "    <details style=\"margin-left: 48px;\">\n",
       "        <summary style=\"margin-bottom: 20px;\">\n",
       "            <h3 style=\"display: inline;\">Workers</h3>\n",
       "        </summary>\n",
       "\n",
       "        \n",
       "        <div style=\"margin-bottom: 20px;\">\n",
       "            <div style=\"width: 24px; height: 24px; background-color: #DBF5FF; border: 3px solid #4CC9FF; border-radius: 5px; position: absolute;\"> </div>\n",
       "            <div style=\"margin-left: 48px;\">\n",
       "            <details>\n",
       "                <summary>\n",
       "                    <h4 style=\"margin-bottom: 0px; display: inline;\">Worker: 0</h4>\n",
       "                </summary>\n",
       "                <table style=\"width: 100%; text-align: left;\">\n",
       "                    <tr>\n",
       "                        <td style=\"text-align: left;\">\n",
       "                            <strong>Comm: </strong> tcp://127.0.0.1:44563\n",
       "                        </td>\n",
       "                        <td style=\"text-align: left;\">\n",
       "                            <strong>Total threads: </strong> 1\n",
       "                        </td>\n",
       "                    </tr>\n",
       "                    <tr>\n",
       "                        <td style=\"text-align: left;\">\n",
       "                            <strong>Dashboard: </strong> <a href=\"http://127.0.0.1:45221/status\" target=\"_blank\">http://127.0.0.1:45221/status</a>\n",
       "                        </td>\n",
       "                        <td style=\"text-align: left;\">\n",
       "                            <strong>Memory: </strong> 1.46 GiB\n",
       "                        </td>\n",
       "                    </tr>\n",
       "                    <tr>\n",
       "                        <td style=\"text-align: left;\">\n",
       "                            <strong>Nanny: </strong> tcp://127.0.0.1:44221\n",
       "                        </td>\n",
       "                        <td style=\"text-align: left;\"></td>\n",
       "                    </tr>\n",
       "                    <tr>\n",
       "                        <td colspan=\"2\" style=\"text-align: left;\">\n",
       "                            <strong>Local directory: </strong> /tmp/dask-worker-space/worker-pg7nvgm1\n",
       "                        </td>\n",
       "                    </tr>\n",
       "\n",
       "                    \n",
       "\n",
       "                    \n",
       "\n",
       "                </table>\n",
       "            </details>\n",
       "            </div>\n",
       "        </div>\n",
       "        \n",
       "        <div style=\"margin-bottom: 20px;\">\n",
       "            <div style=\"width: 24px; height: 24px; background-color: #DBF5FF; border: 3px solid #4CC9FF; border-radius: 5px; position: absolute;\"> </div>\n",
       "            <div style=\"margin-left: 48px;\">\n",
       "            <details>\n",
       "                <summary>\n",
       "                    <h4 style=\"margin-bottom: 0px; display: inline;\">Worker: 1</h4>\n",
       "                </summary>\n",
       "                <table style=\"width: 100%; text-align: left;\">\n",
       "                    <tr>\n",
       "                        <td style=\"text-align: left;\">\n",
       "                            <strong>Comm: </strong> tcp://127.0.0.1:33863\n",
       "                        </td>\n",
       "                        <td style=\"text-align: left;\">\n",
       "                            <strong>Total threads: </strong> 1\n",
       "                        </td>\n",
       "                    </tr>\n",
       "                    <tr>\n",
       "                        <td style=\"text-align: left;\">\n",
       "                            <strong>Dashboard: </strong> <a href=\"http://127.0.0.1:41991/status\" target=\"_blank\">http://127.0.0.1:41991/status</a>\n",
       "                        </td>\n",
       "                        <td style=\"text-align: left;\">\n",
       "                            <strong>Memory: </strong> 1.46 GiB\n",
       "                        </td>\n",
       "                    </tr>\n",
       "                    <tr>\n",
       "                        <td style=\"text-align: left;\">\n",
       "                            <strong>Nanny: </strong> tcp://127.0.0.1:34231\n",
       "                        </td>\n",
       "                        <td style=\"text-align: left;\"></td>\n",
       "                    </tr>\n",
       "                    <tr>\n",
       "                        <td colspan=\"2\" style=\"text-align: left;\">\n",
       "                            <strong>Local directory: </strong> /tmp/dask-worker-space/worker-y0ggzl11\n",
       "                        </td>\n",
       "                    </tr>\n",
       "\n",
       "                    \n",
       "\n",
       "                    \n",
       "\n",
       "                </table>\n",
       "            </details>\n",
       "            </div>\n",
       "        </div>\n",
       "        \n",
       "        <div style=\"margin-bottom: 20px;\">\n",
       "            <div style=\"width: 24px; height: 24px; background-color: #DBF5FF; border: 3px solid #4CC9FF; border-radius: 5px; position: absolute;\"> </div>\n",
       "            <div style=\"margin-left: 48px;\">\n",
       "            <details>\n",
       "                <summary>\n",
       "                    <h4 style=\"margin-bottom: 0px; display: inline;\">Worker: 2</h4>\n",
       "                </summary>\n",
       "                <table style=\"width: 100%; text-align: left;\">\n",
       "                    <tr>\n",
       "                        <td style=\"text-align: left;\">\n",
       "                            <strong>Comm: </strong> tcp://127.0.0.1:43689\n",
       "                        </td>\n",
       "                        <td style=\"text-align: left;\">\n",
       "                            <strong>Total threads: </strong> 1\n",
       "                        </td>\n",
       "                    </tr>\n",
       "                    <tr>\n",
       "                        <td style=\"text-align: left;\">\n",
       "                            <strong>Dashboard: </strong> <a href=\"http://127.0.0.1:34375/status\" target=\"_blank\">http://127.0.0.1:34375/status</a>\n",
       "                        </td>\n",
       "                        <td style=\"text-align: left;\">\n",
       "                            <strong>Memory: </strong> 1.46 GiB\n",
       "                        </td>\n",
       "                    </tr>\n",
       "                    <tr>\n",
       "                        <td style=\"text-align: left;\">\n",
       "                            <strong>Nanny: </strong> tcp://127.0.0.1:40957\n",
       "                        </td>\n",
       "                        <td style=\"text-align: left;\"></td>\n",
       "                    </tr>\n",
       "                    <tr>\n",
       "                        <td colspan=\"2\" style=\"text-align: left;\">\n",
       "                            <strong>Local directory: </strong> /tmp/dask-worker-space/worker-0r_tvmra\n",
       "                        </td>\n",
       "                    </tr>\n",
       "\n",
       "                    \n",
       "\n",
       "                    \n",
       "\n",
       "                </table>\n",
       "            </details>\n",
       "            </div>\n",
       "        </div>\n",
       "        \n",
       "\n",
       "    </details>\n",
       "</div>\n",
       "\n",
       "        </details>\n",
       "    </div>\n",
       "</div>\n",
       "            </details>\n",
       "        \n",
       "\n",
       "    </div>\n",
       "</div>"
      ],
      "text/plain": [
       "<Client: 'tcp://127.0.0.1:38985' processes=3 threads=3, memory=4.39 GiB>"
      ]
     },
     "execution_count": 1,
     "metadata": {},
     "output_type": "execute_result"
    }
   ],
   "source": [
    "from distributed import Client\n",
    "c_local = Client()\n",
    "c_local"
   ]
  },
  {
   "cell_type": "markdown",
   "id": "7abfb6d4-b2c8-4e82-a0ce-73043477de82",
   "metadata": {},
   "source": [
    "## Initiate a distributed scheduler with 6 workers"
   ]
  },
  {
   "cell_type": "code",
   "execution_count": 2,
   "id": "d2c721da-ab84-4371-b17c-aef555eaa1e5",
   "metadata": {},
   "outputs": [],
   "source": [
    "from dask_kubernetes.operator import KubeCluster\n",
    "\n",
    "username = \"mbarbetti\"\n",
    "\n",
    "cluster = KubeCluster(\n",
    "    name=f'{username}',\n",
    "    namespace=f'user-{username}', \n",
    "    image='dodasts/sosc22:v1',\n",
    "    n_workers=1,\n",
    "    worker_command=[\n",
    "        'dask-worker',\n",
    "        '--name=$(DASK_WORKER_NAME)',\n",
    "        '--local-directory=temp_dir', \n",
    "        '--nthreads', '1',\n",
    "        '--death-timeout', '60',\n",
    "        '--memory-limit','2G'\n",
    "    ],\n",
    "    resources={\n",
    "        \"requests\": {\n",
    "            \"memory\": \"2Gi\",\n",
    "            \"cpu\": \"1\"\n",
    "        },\n",
    "        \"limits\": {\n",
    "            \"memory\": \"3Gi\",\n",
    "            \"cpu\": \"1\"\n",
    "        }\n",
    "    }\n",
    ")"
   ]
  },
  {
   "cell_type": "code",
   "execution_count": 3,
   "id": "6aedea90-f745-4e49-a365-d0dd99f64883",
   "metadata": {},
   "outputs": [
    {
     "name": "stderr",
     "output_type": "stream",
     "text": [
      "/opt/conda/lib/python3.10/site-packages/distributed/client.py:1361: VersionMismatchWarning: Mismatched versions found\n",
      "\n",
      "+-------------+----------------+----------------+----------------+\n",
      "| Package     | Client         | Scheduler      | Workers        |\n",
      "+-------------+----------------+----------------+----------------+\n",
      "| dask        | 2022.11.0      | 2022.10.0      | 2022.10.0      |\n",
      "| distributed | 2022.11.0      | 2022.10.0      | 2022.10.0      |\n",
      "| lz4         | 4.0.2          | 4.0.0          | 4.0.0          |\n",
      "| numpy       | 1.23.5         | 1.23.4         | 1.23.4         |\n",
      "| pandas      | 1.5.2          | 1.5.1          | 1.5.1          |\n",
      "| python      | 3.10.8.final.0 | 3.10.6.final.0 | 3.10.6.final.0 |\n",
      "+-------------+----------------+----------------+----------------+\n",
      "  warnings.warn(version_module.VersionMismatchWarning(msg[0][\"warning\"]))\n"
     ]
    },
    {
     "data": {
      "text/html": [
       "<div>\n",
       "    <div style=\"width: 24px; height: 24px; background-color: #e1e1e1; border: 3px solid #9D9D9D; border-radius: 5px; position: absolute;\"> </div>\n",
       "    <div style=\"margin-left: 48px;\">\n",
       "        <h3 style=\"margin-bottom: 0px;\">Client</h3>\n",
       "        <p style=\"color: #9D9D9D; margin-bottom: 0px;\">Client-f6916aa6-7196-11ed-83ae-fa4af0568f72</p>\n",
       "        <table style=\"width: 100%; text-align: left;\">\n",
       "\n",
       "        <tr>\n",
       "        \n",
       "            <td style=\"text-align: left;\"><strong>Connection method:</strong> Cluster object</td>\n",
       "            <td style=\"text-align: left;\"><strong>Cluster type:</strong> dask_kubernetes.KubeCluster</td>\n",
       "        \n",
       "        </tr>\n",
       "\n",
       "        \n",
       "            <tr>\n",
       "                <td style=\"text-align: left;\">\n",
       "                    <strong>Dashboard: </strong> <a href=\"http://mbarbetti-scheduler.user-mbarbetti:8787/status\" target=\"_blank\">http://mbarbetti-scheduler.user-mbarbetti:8787/status</a>\n",
       "                </td>\n",
       "                <td style=\"text-align: left;\"></td>\n",
       "            </tr>\n",
       "        \n",
       "\n",
       "        </table>\n",
       "\n",
       "        \n",
       "\n",
       "        \n",
       "            <details>\n",
       "            <summary style=\"margin-bottom: 20px;\"><h3 style=\"display: inline;\">Cluster Info</h3></summary>\n",
       "            <div class=\"jp-RenderedHTMLCommon jp-RenderedHTML jp-mod-trusted jp-OutputArea-output\">\n",
       "    <div style=\"width: 24px; height: 24px; background-color: #e1e1e1; border: 3px solid #9D9D9D; border-radius: 5px; position: absolute;\">\n",
       "    </div>\n",
       "    <div style=\"margin-left: 48px;\">\n",
       "        <h3 style=\"margin-bottom: 0px; margin-top: 0px;\">KubeCluster</h3>\n",
       "        <p style=\"color: #9D9D9D; margin-bottom: 0px;\">mbarbetti</p>\n",
       "        <table style=\"width: 100%; text-align: left;\">\n",
       "            <tr>\n",
       "                <td style=\"text-align: left;\">\n",
       "                    <strong>Dashboard:</strong> <a href=\"http://mbarbetti-scheduler.user-mbarbetti:8787/status\" target=\"_blank\">http://mbarbetti-scheduler.user-mbarbetti:8787/status</a>\n",
       "                </td>\n",
       "                <td style=\"text-align: left;\">\n",
       "                    <strong>Workers:</strong> 1\n",
       "                </td>\n",
       "            </tr>\n",
       "            <tr>\n",
       "                <td style=\"text-align: left;\">\n",
       "                    <strong>Total threads:</strong> 1\n",
       "                </td>\n",
       "                <td style=\"text-align: left;\">\n",
       "                    <strong>Total memory:</strong> 1.86 GiB\n",
       "                </td>\n",
       "            </tr>\n",
       "            \n",
       "        </table>\n",
       "\n",
       "        <details>\n",
       "            <summary style=\"margin-bottom: 20px;\">\n",
       "                <h3 style=\"display: inline;\">Scheduler Info</h3>\n",
       "            </summary>\n",
       "\n",
       "            <div style=\"\">\n",
       "    <div>\n",
       "        <div style=\"width: 24px; height: 24px; background-color: #FFF7E5; border: 3px solid #FF6132; border-radius: 5px; position: absolute;\"> </div>\n",
       "        <div style=\"margin-left: 48px;\">\n",
       "            <h3 style=\"margin-bottom: 0px;\">Scheduler</h3>\n",
       "            <p style=\"color: #9D9D9D; margin-bottom: 0px;\">Scheduler-49db3d22-9ae2-4393-976d-71e6b024b3a4</p>\n",
       "            <table style=\"width: 100%; text-align: left;\">\n",
       "                <tr>\n",
       "                    <td style=\"text-align: left;\">\n",
       "                        <strong>Comm:</strong> tcp://10.42.49.16:8786\n",
       "                    </td>\n",
       "                    <td style=\"text-align: left;\">\n",
       "                        <strong>Workers:</strong> 1\n",
       "                    </td>\n",
       "                </tr>\n",
       "                <tr>\n",
       "                    <td style=\"text-align: left;\">\n",
       "                        <strong>Dashboard:</strong> <a href=\"http://10.42.49.16:8787/status\" target=\"_blank\">http://10.42.49.16:8787/status</a>\n",
       "                    </td>\n",
       "                    <td style=\"text-align: left;\">\n",
       "                        <strong>Total threads:</strong> 1\n",
       "                    </td>\n",
       "                </tr>\n",
       "                <tr>\n",
       "                    <td style=\"text-align: left;\">\n",
       "                        <strong>Started:</strong> 2 hours ago\n",
       "                    </td>\n",
       "                    <td style=\"text-align: left;\">\n",
       "                        <strong>Total memory:</strong> 1.86 GiB\n",
       "                    </td>\n",
       "                </tr>\n",
       "            </table>\n",
       "        </div>\n",
       "    </div>\n",
       "\n",
       "    <details style=\"margin-left: 48px;\">\n",
       "        <summary style=\"margin-bottom: 20px;\">\n",
       "            <h3 style=\"display: inline;\">Workers</h3>\n",
       "        </summary>\n",
       "\n",
       "        \n",
       "        <div style=\"margin-bottom: 20px;\">\n",
       "            <div style=\"width: 24px; height: 24px; background-color: #DBF5FF; border: 3px solid #4CC9FF; border-radius: 5px; position: absolute;\"> </div>\n",
       "            <div style=\"margin-left: 48px;\">\n",
       "            <details>\n",
       "                <summary>\n",
       "                    <h4 style=\"margin-bottom: 0px; display: inline;\">Worker: mbarbetti-default-worker-7978368a5b</h4>\n",
       "                </summary>\n",
       "                <table style=\"width: 100%; text-align: left;\">\n",
       "                    <tr>\n",
       "                        <td style=\"text-align: left;\">\n",
       "                            <strong>Comm: </strong> tcp://10.42.175.33:44819\n",
       "                        </td>\n",
       "                        <td style=\"text-align: left;\">\n",
       "                            <strong>Total threads: </strong> 1\n",
       "                        </td>\n",
       "                    </tr>\n",
       "                    <tr>\n",
       "                        <td style=\"text-align: left;\">\n",
       "                            <strong>Dashboard: </strong> <a href=\"http://10.42.175.33:42349/status\" target=\"_blank\">http://10.42.175.33:42349/status</a>\n",
       "                        </td>\n",
       "                        <td style=\"text-align: left;\">\n",
       "                            <strong>Memory: </strong> 1.86 GiB\n",
       "                        </td>\n",
       "                    </tr>\n",
       "                    <tr>\n",
       "                        <td style=\"text-align: left;\">\n",
       "                            <strong>Nanny: </strong> tcp://10.42.175.33:43835\n",
       "                        </td>\n",
       "                        <td style=\"text-align: left;\"></td>\n",
       "                    </tr>\n",
       "                    <tr>\n",
       "                        <td colspan=\"2\" style=\"text-align: left;\">\n",
       "                            <strong>Local directory: </strong> /home/jovyan/temp_dir/dask-worker-space/worker-6c0itpp_\n",
       "                        </td>\n",
       "                    </tr>\n",
       "\n",
       "                    \n",
       "\n",
       "                    \n",
       "\n",
       "                </table>\n",
       "            </details>\n",
       "            </div>\n",
       "        </div>\n",
       "        \n",
       "\n",
       "    </details>\n",
       "</div>\n",
       "\n",
       "        </details>\n",
       "    </div>\n",
       "</div>\n",
       "            </details>\n",
       "        \n",
       "\n",
       "    </div>\n",
       "</div>"
      ],
      "text/plain": [
       "<Client: 'tcp://10.42.49.16:8786' processes=1 threads=1, memory=1.86 GiB>"
      ]
     },
     "execution_count": 3,
     "metadata": {},
     "output_type": "execute_result"
    }
   ],
   "source": [
    "c_distributed = Client(cluster)\n",
    "c_distributed"
   ]
  },
  {
   "cell_type": "code",
   "execution_count": 4,
   "id": "9e21ee44-ab24-4585-a6a7-3cc0e8d8681d",
   "metadata": {},
   "outputs": [],
   "source": [
    "#cluster.scale(1)\n",
    "#c_distributed.close()"
   ]
  },
  {
   "cell_type": "markdown",
   "id": "d1ce9de8-280b-437e-859d-9fb37fc46aa3",
   "metadata": {},
   "source": [
    "You can now visit the dashboard of your distributed resources here: `http://${YOUR JHUB USERNAME}-dask.131.154.96.42.myip.cloud.infn.it/status`"
   ]
  },
  {
   "cell_type": "code",
   "execution_count": 5,
   "id": "35ceb478",
   "metadata": {},
   "outputs": [
    {
     "data": {
      "text/plain": [
       "{'tcp://10.42.175.33:44819': {'status': 'OK'}}"
      ]
     },
     "execution_count": 5,
     "metadata": {},
     "output_type": "execute_result"
    }
   ],
   "source": [
    "# Hint: upload a file (for instance a compiled C lib, cough cough... ) to your cluster via\n",
    "from subprocess import run as run_shell\n",
    "\n",
    "libpath = \"lib.288931.so\"\n",
    "run_shell(['gcc', '--shared', '-fPIC', '-o', \"/tmp/\" + libpath, 'src.C'])\n",
    "c_distributed.upload_file(\"/tmp/\" + libpath)"
   ]
  },
  {
   "cell_type": "markdown",
   "id": "e11d9202-5cad-4d6e-a8be-ff2eb3e8079f",
   "metadata": {},
   "source": [
    "## Ex 1.a:  Distribute butt_filtfilt function on local dask"
   ]
  },
  {
   "cell_type": "code",
   "execution_count": 6,
   "id": "98f64dad-5ba0-406b-84a8-3a19ce64f1f5",
   "metadata": {},
   "outputs": [],
   "source": [
    "import pandas as pd\n",
    "\n",
    "data = pd.read_csv(\"https://pandora.infn.it/public/806aa1/dl/exoTrain.csv\")\n",
    "cols = data.columns[1:]"
   ]
  },
  {
   "cell_type": "code",
   "execution_count": 7,
   "id": "da213b5b-2b48-45d1-866d-e8ff82ce3390",
   "metadata": {},
   "outputs": [],
   "source": [
    "data = data[cols[1:]]"
   ]
  },
  {
   "cell_type": "code",
   "execution_count": 8,
   "id": "039f53ce-91e8-4649-818c-24313fdf66b1",
   "metadata": {},
   "outputs": [
    {
     "data": {
      "text/plain": [
       "(5087, 3196)"
      ]
     },
     "execution_count": 8,
     "metadata": {},
     "output_type": "execute_result"
    }
   ],
   "source": [
    "data.values.shape"
   ]
  },
  {
   "cell_type": "code",
   "execution_count": 9,
   "id": "60396830-06c8-49d6-a55a-22e409883b44",
   "metadata": {},
   "outputs": [
    {
     "data": {
      "text/html": [
       "<table>\n",
       "    <tr>\n",
       "        <td>\n",
       "            <table style=\"border-collapse: collapse;\">\n",
       "                <thead>\n",
       "                    <tr>\n",
       "                        <td> </td>\n",
       "                        <th> Array </th>\n",
       "                        <th> Chunk </th>\n",
       "                    </tr>\n",
       "                </thead>\n",
       "                <tbody>\n",
       "                    \n",
       "                    <tr>\n",
       "                        <th> Bytes </th>\n",
       "                        <td> 124.04 MiB </td>\n",
       "                        <td> 18.29 MiB </td>\n",
       "                    </tr>\n",
       "                    \n",
       "                    <tr>\n",
       "                        <th> Shape </th>\n",
       "                        <td> (5087, 3196) </td>\n",
       "                        <td> (750, 3196) </td>\n",
       "                    </tr>\n",
       "                    <tr>\n",
       "                        <th> Dask graph </th>\n",
       "                        <td colspan=\"2\"> 7 chunks in 1 graph layer </td>\n",
       "                    </tr>\n",
       "                    <tr>\n",
       "                        <th> Data type </th>\n",
       "                        <td colspan=\"2\"> float64 numpy.ndarray </td>\n",
       "                    </tr>\n",
       "                </tbody>\n",
       "            </table>\n",
       "        </td>\n",
       "        <td>\n",
       "        <svg width=\"125\" height=\"170\" style=\"stroke:rgb(0,0,0);stroke-width:1\" >\n",
       "\n",
       "  <!-- Horizontal lines -->\n",
       "  <line x1=\"0\" y1=\"0\" x2=\"75\" y2=\"0\" style=\"stroke-width:2\" />\n",
       "  <line x1=\"0\" y1=\"17\" x2=\"75\" y2=\"17\" />\n",
       "  <line x1=\"0\" y1=\"35\" x2=\"75\" y2=\"35\" />\n",
       "  <line x1=\"0\" y1=\"53\" x2=\"75\" y2=\"53\" />\n",
       "  <line x1=\"0\" y1=\"70\" x2=\"75\" y2=\"70\" />\n",
       "  <line x1=\"0\" y1=\"88\" x2=\"75\" y2=\"88\" />\n",
       "  <line x1=\"0\" y1=\"106\" x2=\"75\" y2=\"106\" />\n",
       "  <line x1=\"0\" y1=\"120\" x2=\"75\" y2=\"120\" style=\"stroke-width:2\" />\n",
       "\n",
       "  <!-- Vertical lines -->\n",
       "  <line x1=\"0\" y1=\"0\" x2=\"0\" y2=\"120\" style=\"stroke-width:2\" />\n",
       "  <line x1=\"75\" y1=\"0\" x2=\"75\" y2=\"120\" style=\"stroke-width:2\" />\n",
       "\n",
       "  <!-- Colored Rectangle -->\n",
       "  <polygon points=\"0.0,0.0 75.3921761352467,0.0 75.3921761352467,120.0 0.0,120.0\" style=\"fill:#ECB172A0;stroke-width:0\"/>\n",
       "\n",
       "  <!-- Text -->\n",
       "  <text x=\"37.696088\" y=\"140.000000\" font-size=\"1.0rem\" font-weight=\"100\" text-anchor=\"middle\" >3196</text>\n",
       "  <text x=\"95.392176\" y=\"60.000000\" font-size=\"1.0rem\" font-weight=\"100\" text-anchor=\"middle\" transform=\"rotate(-90,95.392176,60.000000)\">5087</text>\n",
       "</svg>\n",
       "        </td>\n",
       "    </tr>\n",
       "</table>"
      ],
      "text/plain": [
       "dask.array<array, shape=(5087, 3196), dtype=float64, chunksize=(750, 3196), chunktype=numpy.ndarray>"
      ]
     },
     "execution_count": 9,
     "metadata": {},
     "output_type": "execute_result"
    }
   ],
   "source": [
    "import dask.array as da\n",
    "\n",
    "data_da = da.from_array(data.values, chunks=(750, 3198))\n",
    "data_da"
   ]
  },
  {
   "cell_type": "code",
   "execution_count": 10,
   "id": "3ea2c14b-27e6-4485-a3c0-227eed9719ca",
   "metadata": {},
   "outputs": [],
   "source": [
    "import dask\n",
    "import numpy as np\n",
    "from functools import partial\n",
    "from scipy.signal import butter, filtfilt\n",
    "from distributed.client import temp_default_client\n",
    "\n",
    "\n",
    "def preprocess(data, filter_order=3, filter_cutoff=(0.01, 0.2)):\n",
    "    b, a = butter(filter_order, filter_cutoff, btype='bandpass')\n",
    "    filtered = filtfilt(b, a, data)\n",
    "    hf = data - filtered\n",
    "    hf = (hf - hf.mean(axis=1, keepdims=True))/hf.std(axis=1, keepdims=True)\n",
    "    hf = (hf - hf.mean(axis=0, keepdims=True))/hf.std(axis=0, keepdims=True)\n",
    "    return hf\n",
    "\n",
    "prep_delay = dask.delayed(partial(preprocess, filter_order=3, filter_cutoff=(0.01, 0.2)))"
   ]
  },
  {
   "cell_type": "code",
   "execution_count": 11,
   "id": "85abe0ca-c1d3-43c1-b5fb-80bb69f76287",
   "metadata": {},
   "outputs": [
    {
     "data": {
      "text/html": [
       "<table>\n",
       "    <tr>\n",
       "        <td>\n",
       "            <table style=\"border-collapse: collapse;\">\n",
       "                <thead>\n",
       "                    <tr>\n",
       "                        <td> </td>\n",
       "                        <th> Array </th>\n",
       "                        <th> Chunk </th>\n",
       "                    </tr>\n",
       "                </thead>\n",
       "                <tbody>\n",
       "                    \n",
       "                    <tr>\n",
       "                        <th> Bytes </th>\n",
       "                        <td> 124.04 MiB </td>\n",
       "                        <td> 18.29 MiB </td>\n",
       "                    </tr>\n",
       "                    \n",
       "                    <tr>\n",
       "                        <th> Shape </th>\n",
       "                        <td> (5087, 3196) </td>\n",
       "                        <td> (750, 3196) </td>\n",
       "                    </tr>\n",
       "                    <tr>\n",
       "                        <th> Dask graph </th>\n",
       "                        <td colspan=\"2\"> 7 chunks in 20 graph layers </td>\n",
       "                    </tr>\n",
       "                    <tr>\n",
       "                        <th> Data type </th>\n",
       "                        <td colspan=\"2\"> float64 numpy.ndarray </td>\n",
       "                    </tr>\n",
       "                </tbody>\n",
       "            </table>\n",
       "        </td>\n",
       "        <td>\n",
       "        <svg width=\"125\" height=\"170\" style=\"stroke:rgb(0,0,0);stroke-width:1\" >\n",
       "\n",
       "  <!-- Horizontal lines -->\n",
       "  <line x1=\"0\" y1=\"0\" x2=\"75\" y2=\"0\" style=\"stroke-width:2\" />\n",
       "  <line x1=\"0\" y1=\"17\" x2=\"75\" y2=\"17\" />\n",
       "  <line x1=\"0\" y1=\"35\" x2=\"75\" y2=\"35\" />\n",
       "  <line x1=\"0\" y1=\"53\" x2=\"75\" y2=\"53\" />\n",
       "  <line x1=\"0\" y1=\"70\" x2=\"75\" y2=\"70\" />\n",
       "  <line x1=\"0\" y1=\"88\" x2=\"75\" y2=\"88\" />\n",
       "  <line x1=\"0\" y1=\"106\" x2=\"75\" y2=\"106\" />\n",
       "  <line x1=\"0\" y1=\"120\" x2=\"75\" y2=\"120\" style=\"stroke-width:2\" />\n",
       "\n",
       "  <!-- Vertical lines -->\n",
       "  <line x1=\"0\" y1=\"0\" x2=\"0\" y2=\"120\" style=\"stroke-width:2\" />\n",
       "  <line x1=\"75\" y1=\"0\" x2=\"75\" y2=\"120\" style=\"stroke-width:2\" />\n",
       "\n",
       "  <!-- Colored Rectangle -->\n",
       "  <polygon points=\"0.0,0.0 75.3921761352467,0.0 75.3921761352467,120.0 0.0,120.0\" style=\"fill:#ECB172A0;stroke-width:0\"/>\n",
       "\n",
       "  <!-- Text -->\n",
       "  <text x=\"37.696088\" y=\"140.000000\" font-size=\"1.0rem\" font-weight=\"100\" text-anchor=\"middle\" >3196</text>\n",
       "  <text x=\"95.392176\" y=\"60.000000\" font-size=\"1.0rem\" font-weight=\"100\" text-anchor=\"middle\" transform=\"rotate(-90,95.392176,60.000000)\">5087</text>\n",
       "</svg>\n",
       "        </td>\n",
       "    </tr>\n",
       "</table>"
      ],
      "text/plain": [
       "dask.array<truediv, shape=(5087, 3196), dtype=float64, chunksize=(750, 3196), chunktype=numpy.ndarray>"
      ]
     },
     "execution_count": 11,
     "metadata": {},
     "output_type": "execute_result"
    }
   ],
   "source": [
    "preprocess(data_da)"
   ]
  },
  {
   "cell_type": "code",
   "execution_count": 12,
   "id": "30efe866-4743-41d2-bd96-53a91754b299",
   "metadata": {},
   "outputs": [
    {
     "data": {
      "text/plain": [
       "Delayed('preprocess-38e6dff2-0c65-4545-91d1-d5b85bb782dc')"
      ]
     },
     "execution_count": 12,
     "metadata": {},
     "output_type": "execute_result"
    }
   ],
   "source": [
    "prep_delay(data_da)"
   ]
  },
  {
   "cell_type": "code",
   "execution_count": 13,
   "id": "5bec0267-9c24-4564-969d-b8e59600b544",
   "metadata": {},
   "outputs": [],
   "source": [
    "res_np = preprocess(data.values)\n",
    "res_da = preprocess(data_da).compute()\n",
    "assert np.allclose(res_np, res_da, 1e-4)"
   ]
  },
  {
   "cell_type": "code",
   "execution_count": 14,
   "id": "e39b798f-a3d5-45a3-b62a-94b687cb1d0b",
   "metadata": {},
   "outputs": [],
   "source": [
    "res_np = preprocess(data.values)\n",
    "res_da_delay = prep_delay(data_da).compute()\n",
    "assert np.allclose(res_np, res_da_delay, 1e-4)"
   ]
  },
  {
   "cell_type": "code",
   "execution_count": 15,
   "id": "ade040ab-0c96-4f4c-9880-0a45a56fd4c9",
   "metadata": {},
   "outputs": [
    {
     "name": "stdout",
     "output_type": "stream",
     "text": [
      "774 ms ± 21.5 ms per loop (mean ± std. dev. of 7 runs, 1 loop each)\n"
     ]
    }
   ],
   "source": [
    "%%timeit\n",
    "res_np = preprocess(data.values)"
   ]
  },
  {
   "cell_type": "code",
   "execution_count": 16,
   "id": "1f702f78-11af-4c5e-a67a-91ce70ced299",
   "metadata": {},
   "outputs": [
    {
     "name": "stdout",
     "output_type": "stream",
     "text": [
      "3.24 s ± 51.4 ms per loop (mean ± std. dev. of 7 runs, 1 loop each)\n"
     ]
    }
   ],
   "source": [
    "%%timeit\n",
    "with temp_default_client(c_local):\n",
    "    res_da = preprocess(data_da).compute()"
   ]
  },
  {
   "cell_type": "code",
   "execution_count": 17,
   "id": "93de49bb-e0c4-4880-9a8b-e464fd74d664",
   "metadata": {},
   "outputs": [
    {
     "name": "stdout",
     "output_type": "stream",
     "text": [
      "1.88 s ± 77.4 ms per loop (mean ± std. dev. of 7 runs, 1 loop each)\n"
     ]
    }
   ],
   "source": [
    "%%timeit\n",
    "with temp_default_client(c_local):\n",
    "    res_da_delay = prep_delay(data_da).compute()"
   ]
  },
  {
   "cell_type": "markdown",
   "id": "1c2c073f",
   "metadata": {},
   "source": [
    "## Ex 1.b: distribute the same function on the remote cluster"
   ]
  },
  {
   "cell_type": "code",
   "execution_count": 18,
   "id": "bfd9790e",
   "metadata": {},
   "outputs": [
    {
     "name": "stdout",
     "output_type": "stream",
     "text": [
      "9.06 s ± 106 ms per loop (mean ± std. dev. of 7 runs, 1 loop each)\n"
     ]
    }
   ],
   "source": [
    "%%timeit\n",
    "with temp_default_client(c_distributed):\n",
    "    res_da = preprocess(data_da).compute()"
   ]
  },
  {
   "cell_type": "code",
   "execution_count": 19,
   "id": "6a8fdac2-d7e0-490a-9c8b-029d007ac417",
   "metadata": {},
   "outputs": [
    {
     "name": "stdout",
     "output_type": "stream",
     "text": [
      "4.04 s ± 79.8 ms per loop (mean ± std. dev. of 7 runs, 1 loop each)\n"
     ]
    }
   ],
   "source": [
    "%%timeit\n",
    "with temp_default_client(c_distributed):\n",
    "    res_da_delay = prep_delay(data_da).compute()"
   ]
  },
  {
   "cell_type": "markdown",
   "id": "b3c86017",
   "metadata": {},
   "source": [
    "## Ex 2: finalize the preparation of the array to be ready for get_period function "
   ]
  },
  {
   "cell_type": "code",
   "execution_count": 20,
   "id": "cede24af",
   "metadata": {},
   "outputs": [],
   "source": [
    "# datemelo buono 🤯"
   ]
  },
  {
   "cell_type": "markdown",
   "id": "801238f9",
   "metadata": {},
   "source": [
    "## Ex 3.a: distribute and measure the duration of the of compute_period function on the local dask\n",
    "- also check the period distribution plot "
   ]
  },
  {
   "cell_type": "code",
   "execution_count": 21,
   "id": "4b0aa8de-b584-4522-943d-1ba3c923df0a",
   "metadata": {},
   "outputs": [
    {
     "data": {
      "text/plain": [
       "CompletedProcess(args=['gcc', '--shared', '-fPIC', '-o', 'lib.288931.so', 'src.C'], returncode=0)"
      ]
     },
     "execution_count": 21,
     "metadata": {},
     "output_type": "execute_result"
    }
   ],
   "source": [
    "libpath = \"lib.288931.so\"\n",
    "run_shell(['gcc', '--shared', '-fPIC', '-o', libpath, 'src.C'])"
   ]
  },
  {
   "cell_type": "code",
   "execution_count": 22,
   "id": "400414a2-f8ab-4f71-a169-b7bbc5f5d406",
   "metadata": {},
   "outputs": [],
   "source": [
    "import ctypes\n",
    "\n",
    "lib = ctypes.CDLL(\"/tmp/\" + libpath)\n",
    "lib.best_matching_period.restype = ctypes.c_int\n",
    "lib.best_matching_period.argtypes = [\n",
    "    ctypes.c_int, \n",
    "    ctypes.c_double, \n",
    "    np.ctypeslib.ndpointer(dtype=np.float64),\n",
    "    np.ctypeslib.ndpointer(dtype=np.int32),\n",
    "    np.ctypeslib.ndpointer(dtype=np.float64)\n",
    "]"
   ]
  },
  {
   "cell_type": "code",
   "execution_count": 31,
   "id": "7043b1f9-f8b6-4b98-a70b-97b41be81504",
   "metadata": {},
   "outputs": [
    {
     "data": {
      "text/plain": [
       "dask.bag<from_sequence, npartitions=7>"
      ]
     },
     "execution_count": 31,
     "metadata": {},
     "output_type": "execute_result"
    }
   ],
   "source": [
    "import dask.bag as db\n",
    "\n",
    "data_db = db.from_sequence(data.values.tolist(), npartitions=7)\n",
    "data_db"
   ]
  },
  {
   "cell_type": "code",
   "execution_count": 43,
   "id": "d70fc93a",
   "metadata": {},
   "outputs": [],
   "source": [
    "def compute_periods(row, alpha):    \n",
    "    best_period = np.array(0, dtype=np.int32)\n",
    "    min_score = np.array(9999., dtype=np.float64)\n",
    "    lib.best_matching_period(len(row), alpha, row, best_period, min_score);\n",
    "    return int(best_period), float(min_score)"
   ]
  },
  {
   "cell_type": "code",
   "execution_count": 44,
   "id": "15273edc-2a07-4fb0-862c-74994014511c",
   "metadata": {},
   "outputs": [
    {
     "data": {
      "text/plain": [
       "[(1171, -378214.51033354603),\n",
       " (1171, -378214.51033354603),\n",
       " (1171, -378214.51033354603),\n",
       " (1171, -378214.51033354603),\n",
       " (1171, -378214.51033354603),\n",
       " (1171, -378214.51033354603),\n",
       " (1171, -378214.51033354603),\n",
       " (1171, -378214.51033354603),\n",
       " (1171, -378214.51033354603),\n",
       " (1171, -378214.51033354603)]"
      ]
     },
     "execution_count": 44,
     "metadata": {},
     "output_type": "execute_result"
    }
   ],
   "source": [
    "res_py = map(partial(compute_periods, alpha=0.5), list(data.values)[:10])\n",
    "list(res_py)"
   ]
  },
  {
   "cell_type": "code",
   "execution_count": 33,
   "id": "dfa9aa4a-8101-4260-a1ff-b7b1f9634ea2",
   "metadata": {},
   "outputs": [
    {
     "name": "stderr",
     "output_type": "stream",
     "text": [
      "2022-12-01 16:55:51,592 - distributed.protocol.core - CRITICAL - Failed to Serialize\n",
      "Traceback (most recent call last):\n",
      "  File \"/opt/conda/lib/python3.10/site-packages/distributed/protocol/core.py\", line 109, in dumps\n",
      "    frames[0] = msgpack.dumps(msg, default=_encode_default, use_bin_type=True)\n",
      "  File \"/opt/conda/lib/python3.10/site-packages/msgpack/__init__.py\", line 38, in packb\n",
      "    return Packer(**kwargs).pack(o)\n",
      "  File \"msgpack/_packer.pyx\", line 294, in msgpack._cmsgpack.Packer.pack\n",
      "  File \"msgpack/_packer.pyx\", line 300, in msgpack._cmsgpack.Packer.pack\n",
      "  File \"msgpack/_packer.pyx\", line 297, in msgpack._cmsgpack.Packer.pack\n",
      "  File \"msgpack/_packer.pyx\", line 264, in msgpack._cmsgpack.Packer._pack\n",
      "  File \"msgpack/_packer.pyx\", line 231, in msgpack._cmsgpack.Packer._pack\n",
      "  File \"msgpack/_packer.pyx\", line 231, in msgpack._cmsgpack.Packer._pack\n",
      "  File \"msgpack/_packer.pyx\", line 264, in msgpack._cmsgpack.Packer._pack\n",
      "  File \"msgpack/_packer.pyx\", line 231, in msgpack._cmsgpack.Packer._pack\n",
      "  File \"msgpack/_packer.pyx\", line 231, in msgpack._cmsgpack.Packer._pack\n",
      "  File \"msgpack/_packer.pyx\", line 231, in msgpack._cmsgpack.Packer._pack\n",
      "  File \"msgpack/_packer.pyx\", line 285, in msgpack._cmsgpack.Packer._pack\n",
      "  File \"/opt/conda/lib/python3.10/site-packages/distributed/protocol/core.py\", line 100, in _encode_default\n",
      "    frames.extend(create_serialized_sub_frames(obj))\n",
      "  File \"/opt/conda/lib/python3.10/site-packages/distributed/protocol/core.py\", line 60, in create_serialized_sub_frames\n",
      "    sub_header, sub_frames = serialize_and_split(\n",
      "  File \"/opt/conda/lib/python3.10/site-packages/distributed/protocol/serialize.py\", line 444, in serialize_and_split\n",
      "    header, frames = serialize(x, serializers, on_error, context)\n",
      "  File \"/opt/conda/lib/python3.10/site-packages/distributed/protocol/serialize.py\", line 266, in serialize\n",
      "    return serialize(\n",
      "  File \"/opt/conda/lib/python3.10/site-packages/distributed/protocol/serialize.py\", line 316, in serialize\n",
      "    headers_frames = [\n",
      "  File \"/opt/conda/lib/python3.10/site-packages/distributed/protocol/serialize.py\", line 317, in <listcomp>\n",
      "    serialize(\n",
      "  File \"/opt/conda/lib/python3.10/site-packages/distributed/protocol/serialize.py\", line 366, in serialize\n",
      "    raise TypeError(msg, str(x)[:10000])\n",
      "TypeError: ('Could not serialize object of type tuple', '(<function map_chunk at 0x7ff30c0d67a0>, functools.partial(<function compute_periods at 0x7ff30dc04160>, alpha=0.5), [\"(\\'from_sequence-297e01d55479fcfd033f27c80efcf7fc\\', 2)\"], None, {})')\n",
      "2022-12-01 16:55:51,593 - distributed.comm.utils - ERROR - ('Could not serialize object of type tuple', '(<function map_chunk at 0x7ff30c0d67a0>, functools.partial(<function compute_periods at 0x7ff30dc04160>, alpha=0.5), [\"(\\'from_sequence-297e01d55479fcfd033f27c80efcf7fc\\', 2)\"], None, {})')\n",
      "Traceback (most recent call last):\n",
      "  File \"/opt/conda/lib/python3.10/site-packages/distributed/comm/utils.py\", line 55, in _to_frames\n",
      "    return list(protocol.dumps(msg, **kwargs))\n",
      "  File \"/opt/conda/lib/python3.10/site-packages/distributed/protocol/core.py\", line 109, in dumps\n",
      "    frames[0] = msgpack.dumps(msg, default=_encode_default, use_bin_type=True)\n",
      "  File \"/opt/conda/lib/python3.10/site-packages/msgpack/__init__.py\", line 38, in packb\n",
      "    return Packer(**kwargs).pack(o)\n",
      "  File \"msgpack/_packer.pyx\", line 294, in msgpack._cmsgpack.Packer.pack\n",
      "  File \"msgpack/_packer.pyx\", line 300, in msgpack._cmsgpack.Packer.pack\n",
      "  File \"msgpack/_packer.pyx\", line 297, in msgpack._cmsgpack.Packer.pack\n",
      "  File \"msgpack/_packer.pyx\", line 264, in msgpack._cmsgpack.Packer._pack\n",
      "  File \"msgpack/_packer.pyx\", line 231, in msgpack._cmsgpack.Packer._pack\n",
      "  File \"msgpack/_packer.pyx\", line 231, in msgpack._cmsgpack.Packer._pack\n",
      "  File \"msgpack/_packer.pyx\", line 264, in msgpack._cmsgpack.Packer._pack\n",
      "  File \"msgpack/_packer.pyx\", line 231, in msgpack._cmsgpack.Packer._pack\n",
      "  File \"msgpack/_packer.pyx\", line 231, in msgpack._cmsgpack.Packer._pack\n",
      "  File \"msgpack/_packer.pyx\", line 231, in msgpack._cmsgpack.Packer._pack\n",
      "  File \"msgpack/_packer.pyx\", line 285, in msgpack._cmsgpack.Packer._pack\n",
      "  File \"/opt/conda/lib/python3.10/site-packages/distributed/protocol/core.py\", line 100, in _encode_default\n",
      "    frames.extend(create_serialized_sub_frames(obj))\n",
      "  File \"/opt/conda/lib/python3.10/site-packages/distributed/protocol/core.py\", line 60, in create_serialized_sub_frames\n",
      "    sub_header, sub_frames = serialize_and_split(\n",
      "  File \"/opt/conda/lib/python3.10/site-packages/distributed/protocol/serialize.py\", line 444, in serialize_and_split\n",
      "    header, frames = serialize(x, serializers, on_error, context)\n",
      "  File \"/opt/conda/lib/python3.10/site-packages/distributed/protocol/serialize.py\", line 266, in serialize\n",
      "    return serialize(\n",
      "  File \"/opt/conda/lib/python3.10/site-packages/distributed/protocol/serialize.py\", line 316, in serialize\n",
      "    headers_frames = [\n",
      "  File \"/opt/conda/lib/python3.10/site-packages/distributed/protocol/serialize.py\", line 317, in <listcomp>\n",
      "    serialize(\n",
      "  File \"/opt/conda/lib/python3.10/site-packages/distributed/protocol/serialize.py\", line 366, in serialize\n",
      "    raise TypeError(msg, str(x)[:10000])\n",
      "TypeError: ('Could not serialize object of type tuple', '(<function map_chunk at 0x7ff30c0d67a0>, functools.partial(<function compute_periods at 0x7ff30dc04160>, alpha=0.5), [\"(\\'from_sequence-297e01d55479fcfd033f27c80efcf7fc\\', 2)\"], None, {})')\n",
      "2022-12-01 16:55:51,594 - distributed.batched - ERROR - Error in batched write\n",
      "Traceback (most recent call last):\n",
      "  File \"/opt/conda/lib/python3.10/site-packages/distributed/batched.py\", line 115, in _background_send\n",
      "    nbytes = yield coro\n",
      "  File \"/opt/conda/lib/python3.10/site-packages/tornado/gen.py\", line 762, in run\n",
      "    value = future.result()\n",
      "  File \"/opt/conda/lib/python3.10/site-packages/distributed/comm/tcp.py\", line 271, in write\n",
      "    frames = await to_frames(\n",
      "  File \"/opt/conda/lib/python3.10/site-packages/distributed/comm/utils.py\", line 72, in to_frames\n",
      "    return _to_frames()\n",
      "  File \"/opt/conda/lib/python3.10/site-packages/distributed/comm/utils.py\", line 55, in _to_frames\n",
      "    return list(protocol.dumps(msg, **kwargs))\n",
      "  File \"/opt/conda/lib/python3.10/site-packages/distributed/protocol/core.py\", line 109, in dumps\n",
      "    frames[0] = msgpack.dumps(msg, default=_encode_default, use_bin_type=True)\n",
      "  File \"/opt/conda/lib/python3.10/site-packages/msgpack/__init__.py\", line 38, in packb\n",
      "    return Packer(**kwargs).pack(o)\n",
      "  File \"msgpack/_packer.pyx\", line 294, in msgpack._cmsgpack.Packer.pack\n",
      "  File \"msgpack/_packer.pyx\", line 300, in msgpack._cmsgpack.Packer.pack\n",
      "  File \"msgpack/_packer.pyx\", line 297, in msgpack._cmsgpack.Packer.pack\n",
      "  File \"msgpack/_packer.pyx\", line 264, in msgpack._cmsgpack.Packer._pack\n",
      "  File \"msgpack/_packer.pyx\", line 231, in msgpack._cmsgpack.Packer._pack\n",
      "  File \"msgpack/_packer.pyx\", line 231, in msgpack._cmsgpack.Packer._pack\n",
      "  File \"msgpack/_packer.pyx\", line 264, in msgpack._cmsgpack.Packer._pack\n",
      "  File \"msgpack/_packer.pyx\", line 231, in msgpack._cmsgpack.Packer._pack\n",
      "  File \"msgpack/_packer.pyx\", line 231, in msgpack._cmsgpack.Packer._pack\n",
      "  File \"msgpack/_packer.pyx\", line 231, in msgpack._cmsgpack.Packer._pack\n",
      "  File \"msgpack/_packer.pyx\", line 285, in msgpack._cmsgpack.Packer._pack\n",
      "  File \"/opt/conda/lib/python3.10/site-packages/distributed/protocol/core.py\", line 100, in _encode_default\n",
      "    frames.extend(create_serialized_sub_frames(obj))\n",
      "  File \"/opt/conda/lib/python3.10/site-packages/distributed/protocol/core.py\", line 60, in create_serialized_sub_frames\n",
      "    sub_header, sub_frames = serialize_and_split(\n",
      "  File \"/opt/conda/lib/python3.10/site-packages/distributed/protocol/serialize.py\", line 444, in serialize_and_split\n",
      "    header, frames = serialize(x, serializers, on_error, context)\n",
      "  File \"/opt/conda/lib/python3.10/site-packages/distributed/protocol/serialize.py\", line 266, in serialize\n",
      "    return serialize(\n",
      "  File \"/opt/conda/lib/python3.10/site-packages/distributed/protocol/serialize.py\", line 316, in serialize\n",
      "    headers_frames = [\n",
      "  File \"/opt/conda/lib/python3.10/site-packages/distributed/protocol/serialize.py\", line 317, in <listcomp>\n",
      "    serialize(\n",
      "  File \"/opt/conda/lib/python3.10/site-packages/distributed/protocol/serialize.py\", line 366, in serialize\n",
      "    raise TypeError(msg, str(x)[:10000])\n",
      "TypeError: ('Could not serialize object of type tuple', '(<function map_chunk at 0x7ff30c0d67a0>, functools.partial(<function compute_periods at 0x7ff30dc04160>, alpha=0.5), [\"(\\'from_sequence-297e01d55479fcfd033f27c80efcf7fc\\', 2)\"], None, {})')\n"
     ]
    },
    {
     "ename": "CancelledError",
     "evalue": "('compute_periods-1d176cc4d34d4d8fec9ced48bdc2c444', 2)",
     "output_type": "error",
     "traceback": [
      "\u001b[0;31m---------------------------------------------------------------------------\u001b[0m",
      "\u001b[0;31mCancelledError\u001b[0m                            Traceback (most recent call last)",
      "Cell \u001b[0;32mIn [33], line 2\u001b[0m\n\u001b[1;32m      1\u001b[0m \u001b[38;5;28;01mwith\u001b[39;00m temp_default_client(c_local):\n\u001b[0;32m----> 2\u001b[0m     \u001b[43mdata_db\u001b[49m\u001b[38;5;241;43m.\u001b[39;49m\u001b[43mmap\u001b[49m\u001b[43m(\u001b[49m\u001b[43mpartial\u001b[49m\u001b[43m(\u001b[49m\u001b[43mcompute_periods\u001b[49m\u001b[43m,\u001b[49m\u001b[43m \u001b[49m\u001b[43malpha\u001b[49m\u001b[38;5;241;43m=\u001b[39;49m\u001b[38;5;241;43m0.5\u001b[39;49m\u001b[43m)\u001b[49m\u001b[43m)\u001b[49m\u001b[38;5;241;43m.\u001b[39;49m\u001b[43mcompute\u001b[49m\u001b[43m(\u001b[49m\u001b[43m)\u001b[49m\n",
      "File \u001b[0;32m/opt/conda/lib/python3.10/site-packages/dask/base.py:315\u001b[0m, in \u001b[0;36mDaskMethodsMixin.compute\u001b[0;34m(self, **kwargs)\u001b[0m\n\u001b[1;32m    291\u001b[0m \u001b[38;5;28;01mdef\u001b[39;00m \u001b[38;5;21mcompute\u001b[39m(\u001b[38;5;28mself\u001b[39m, \u001b[38;5;241m*\u001b[39m\u001b[38;5;241m*\u001b[39mkwargs):\n\u001b[1;32m    292\u001b[0m     \u001b[38;5;124;03m\"\"\"Compute this dask collection\u001b[39;00m\n\u001b[1;32m    293\u001b[0m \n\u001b[1;32m    294\u001b[0m \u001b[38;5;124;03m    This turns a lazy Dask collection into its in-memory equivalent.\u001b[39;00m\n\u001b[0;32m   (...)\u001b[0m\n\u001b[1;32m    313\u001b[0m \u001b[38;5;124;03m    dask.base.compute\u001b[39;00m\n\u001b[1;32m    314\u001b[0m \u001b[38;5;124;03m    \"\"\"\u001b[39;00m\n\u001b[0;32m--> 315\u001b[0m     (result,) \u001b[38;5;241m=\u001b[39m \u001b[43mcompute\u001b[49m\u001b[43m(\u001b[49m\u001b[38;5;28;43mself\u001b[39;49m\u001b[43m,\u001b[49m\u001b[43m \u001b[49m\u001b[43mtraverse\u001b[49m\u001b[38;5;241;43m=\u001b[39;49m\u001b[38;5;28;43;01mFalse\u001b[39;49;00m\u001b[43m,\u001b[49m\u001b[43m \u001b[49m\u001b[38;5;241;43m*\u001b[39;49m\u001b[38;5;241;43m*\u001b[39;49m\u001b[43mkwargs\u001b[49m\u001b[43m)\u001b[49m\n\u001b[1;32m    316\u001b[0m     \u001b[38;5;28;01mreturn\u001b[39;00m result\n",
      "File \u001b[0;32m/opt/conda/lib/python3.10/site-packages/dask/base.py:600\u001b[0m, in \u001b[0;36mcompute\u001b[0;34m(traverse, optimize_graph, scheduler, get, *args, **kwargs)\u001b[0m\n\u001b[1;32m    597\u001b[0m     keys\u001b[38;5;241m.\u001b[39mappend(x\u001b[38;5;241m.\u001b[39m__dask_keys__())\n\u001b[1;32m    598\u001b[0m     postcomputes\u001b[38;5;241m.\u001b[39mappend(x\u001b[38;5;241m.\u001b[39m__dask_postcompute__())\n\u001b[0;32m--> 600\u001b[0m results \u001b[38;5;241m=\u001b[39m \u001b[43mschedule\u001b[49m\u001b[43m(\u001b[49m\u001b[43mdsk\u001b[49m\u001b[43m,\u001b[49m\u001b[43m \u001b[49m\u001b[43mkeys\u001b[49m\u001b[43m,\u001b[49m\u001b[43m \u001b[49m\u001b[38;5;241;43m*\u001b[39;49m\u001b[38;5;241;43m*\u001b[39;49m\u001b[43mkwargs\u001b[49m\u001b[43m)\u001b[49m\n\u001b[1;32m    601\u001b[0m \u001b[38;5;28;01mreturn\u001b[39;00m repack([f(r, \u001b[38;5;241m*\u001b[39ma) \u001b[38;5;28;01mfor\u001b[39;00m r, (f, a) \u001b[38;5;129;01min\u001b[39;00m \u001b[38;5;28mzip\u001b[39m(results, postcomputes)])\n",
      "File \u001b[0;32m/opt/conda/lib/python3.10/site-packages/distributed/client.py:3122\u001b[0m, in \u001b[0;36mClient.get\u001b[0;34m(self, dsk, keys, workers, allow_other_workers, resources, sync, asynchronous, direct, retries, priority, fifo_timeout, actors, **kwargs)\u001b[0m\n\u001b[1;32m   3120\u001b[0m         should_rejoin \u001b[38;5;241m=\u001b[39m \u001b[38;5;28;01mFalse\u001b[39;00m\n\u001b[1;32m   3121\u001b[0m \u001b[38;5;28;01mtry\u001b[39;00m:\n\u001b[0;32m-> 3122\u001b[0m     results \u001b[38;5;241m=\u001b[39m \u001b[38;5;28;43mself\u001b[39;49m\u001b[38;5;241;43m.\u001b[39;49m\u001b[43mgather\u001b[49m\u001b[43m(\u001b[49m\u001b[43mpacked\u001b[49m\u001b[43m,\u001b[49m\u001b[43m \u001b[49m\u001b[43masynchronous\u001b[49m\u001b[38;5;241;43m=\u001b[39;49m\u001b[43masynchronous\u001b[49m\u001b[43m,\u001b[49m\u001b[43m \u001b[49m\u001b[43mdirect\u001b[49m\u001b[38;5;241;43m=\u001b[39;49m\u001b[43mdirect\u001b[49m\u001b[43m)\u001b[49m\n\u001b[1;32m   3123\u001b[0m \u001b[38;5;28;01mfinally\u001b[39;00m:\n\u001b[1;32m   3124\u001b[0m     \u001b[38;5;28;01mfor\u001b[39;00m f \u001b[38;5;129;01min\u001b[39;00m futures\u001b[38;5;241m.\u001b[39mvalues():\n",
      "File \u001b[0;32m/opt/conda/lib/python3.10/site-packages/distributed/client.py:2291\u001b[0m, in \u001b[0;36mClient.gather\u001b[0;34m(self, futures, errors, direct, asynchronous)\u001b[0m\n\u001b[1;32m   2289\u001b[0m \u001b[38;5;28;01melse\u001b[39;00m:\n\u001b[1;32m   2290\u001b[0m     local_worker \u001b[38;5;241m=\u001b[39m \u001b[38;5;28;01mNone\u001b[39;00m\n\u001b[0;32m-> 2291\u001b[0m \u001b[38;5;28;01mreturn\u001b[39;00m \u001b[38;5;28;43mself\u001b[39;49m\u001b[38;5;241;43m.\u001b[39;49m\u001b[43msync\u001b[49m\u001b[43m(\u001b[49m\n\u001b[1;32m   2292\u001b[0m \u001b[43m    \u001b[49m\u001b[38;5;28;43mself\u001b[39;49m\u001b[38;5;241;43m.\u001b[39;49m\u001b[43m_gather\u001b[49m\u001b[43m,\u001b[49m\n\u001b[1;32m   2293\u001b[0m \u001b[43m    \u001b[49m\u001b[43mfutures\u001b[49m\u001b[43m,\u001b[49m\n\u001b[1;32m   2294\u001b[0m \u001b[43m    \u001b[49m\u001b[43merrors\u001b[49m\u001b[38;5;241;43m=\u001b[39;49m\u001b[43merrors\u001b[49m\u001b[43m,\u001b[49m\n\u001b[1;32m   2295\u001b[0m \u001b[43m    \u001b[49m\u001b[43mdirect\u001b[49m\u001b[38;5;241;43m=\u001b[39;49m\u001b[43mdirect\u001b[49m\u001b[43m,\u001b[49m\n\u001b[1;32m   2296\u001b[0m \u001b[43m    \u001b[49m\u001b[43mlocal_worker\u001b[49m\u001b[38;5;241;43m=\u001b[39;49m\u001b[43mlocal_worker\u001b[49m\u001b[43m,\u001b[49m\n\u001b[1;32m   2297\u001b[0m \u001b[43m    \u001b[49m\u001b[43masynchronous\u001b[49m\u001b[38;5;241;43m=\u001b[39;49m\u001b[43masynchronous\u001b[49m\u001b[43m,\u001b[49m\n\u001b[1;32m   2298\u001b[0m \u001b[43m\u001b[49m\u001b[43m)\u001b[49m\n",
      "File \u001b[0;32m/opt/conda/lib/python3.10/site-packages/distributed/utils.py:339\u001b[0m, in \u001b[0;36mSyncMethodMixin.sync\u001b[0;34m(self, func, asynchronous, callback_timeout, *args, **kwargs)\u001b[0m\n\u001b[1;32m    337\u001b[0m     \u001b[38;5;28;01mreturn\u001b[39;00m future\n\u001b[1;32m    338\u001b[0m \u001b[38;5;28;01melse\u001b[39;00m:\n\u001b[0;32m--> 339\u001b[0m     \u001b[38;5;28;01mreturn\u001b[39;00m \u001b[43msync\u001b[49m\u001b[43m(\u001b[49m\n\u001b[1;32m    340\u001b[0m \u001b[43m        \u001b[49m\u001b[38;5;28;43mself\u001b[39;49m\u001b[38;5;241;43m.\u001b[39;49m\u001b[43mloop\u001b[49m\u001b[43m,\u001b[49m\u001b[43m \u001b[49m\u001b[43mfunc\u001b[49m\u001b[43m,\u001b[49m\u001b[43m \u001b[49m\u001b[38;5;241;43m*\u001b[39;49m\u001b[43margs\u001b[49m\u001b[43m,\u001b[49m\u001b[43m \u001b[49m\u001b[43mcallback_timeout\u001b[49m\u001b[38;5;241;43m=\u001b[39;49m\u001b[43mcallback_timeout\u001b[49m\u001b[43m,\u001b[49m\u001b[43m \u001b[49m\u001b[38;5;241;43m*\u001b[39;49m\u001b[38;5;241;43m*\u001b[39;49m\u001b[43mkwargs\u001b[49m\n\u001b[1;32m    341\u001b[0m \u001b[43m    \u001b[49m\u001b[43m)\u001b[49m\n",
      "File \u001b[0;32m/opt/conda/lib/python3.10/site-packages/distributed/utils.py:406\u001b[0m, in \u001b[0;36msync\u001b[0;34m(loop, func, callback_timeout, *args, **kwargs)\u001b[0m\n\u001b[1;32m    404\u001b[0m \u001b[38;5;28;01mif\u001b[39;00m error:\n\u001b[1;32m    405\u001b[0m     typ, exc, tb \u001b[38;5;241m=\u001b[39m error\n\u001b[0;32m--> 406\u001b[0m     \u001b[38;5;28;01mraise\u001b[39;00m exc\u001b[38;5;241m.\u001b[39mwith_traceback(tb)\n\u001b[1;32m    407\u001b[0m \u001b[38;5;28;01melse\u001b[39;00m:\n\u001b[1;32m    408\u001b[0m     \u001b[38;5;28;01mreturn\u001b[39;00m result\n",
      "File \u001b[0;32m/opt/conda/lib/python3.10/site-packages/distributed/utils.py:379\u001b[0m, in \u001b[0;36msync.<locals>.f\u001b[0;34m()\u001b[0m\n\u001b[1;32m    377\u001b[0m         future \u001b[38;5;241m=\u001b[39m asyncio\u001b[38;5;241m.\u001b[39mwait_for(future, callback_timeout)\n\u001b[1;32m    378\u001b[0m     future \u001b[38;5;241m=\u001b[39m asyncio\u001b[38;5;241m.\u001b[39mensure_future(future)\n\u001b[0;32m--> 379\u001b[0m     result \u001b[38;5;241m=\u001b[39m \u001b[38;5;28;01myield\u001b[39;00m future\n\u001b[1;32m    380\u001b[0m \u001b[38;5;28;01mexcept\u001b[39;00m \u001b[38;5;167;01mException\u001b[39;00m:\n\u001b[1;32m    381\u001b[0m     error \u001b[38;5;241m=\u001b[39m sys\u001b[38;5;241m.\u001b[39mexc_info()\n",
      "File \u001b[0;32m/opt/conda/lib/python3.10/site-packages/tornado/gen.py:762\u001b[0m, in \u001b[0;36mRunner.run\u001b[0;34m(self)\u001b[0m\n\u001b[1;32m    759\u001b[0m exc_info \u001b[38;5;241m=\u001b[39m \u001b[38;5;28;01mNone\u001b[39;00m\n\u001b[1;32m    761\u001b[0m \u001b[38;5;28;01mtry\u001b[39;00m:\n\u001b[0;32m--> 762\u001b[0m     value \u001b[38;5;241m=\u001b[39m \u001b[43mfuture\u001b[49m\u001b[38;5;241;43m.\u001b[39;49m\u001b[43mresult\u001b[49m\u001b[43m(\u001b[49m\u001b[43m)\u001b[49m\n\u001b[1;32m    763\u001b[0m \u001b[38;5;28;01mexcept\u001b[39;00m \u001b[38;5;167;01mException\u001b[39;00m:\n\u001b[1;32m    764\u001b[0m     exc_info \u001b[38;5;241m=\u001b[39m sys\u001b[38;5;241m.\u001b[39mexc_info()\n",
      "File \u001b[0;32m/opt/conda/lib/python3.10/site-packages/distributed/client.py:2155\u001b[0m, in \u001b[0;36mClient._gather\u001b[0;34m(self, futures, errors, direct, local_worker)\u001b[0m\n\u001b[1;32m   2153\u001b[0m     \u001b[38;5;28;01melse\u001b[39;00m:\n\u001b[1;32m   2154\u001b[0m         \u001b[38;5;28;01mraise\u001b[39;00m exception\u001b[38;5;241m.\u001b[39mwith_traceback(traceback)\n\u001b[0;32m-> 2155\u001b[0m     \u001b[38;5;28;01mraise\u001b[39;00m exc\n\u001b[1;32m   2156\u001b[0m \u001b[38;5;28;01mif\u001b[39;00m errors \u001b[38;5;241m==\u001b[39m \u001b[38;5;124m\"\u001b[39m\u001b[38;5;124mskip\u001b[39m\u001b[38;5;124m\"\u001b[39m:\n\u001b[1;32m   2157\u001b[0m     bad_keys\u001b[38;5;241m.\u001b[39madd(key)\n",
      "\u001b[0;31mCancelledError\u001b[0m: ('compute_periods-1d176cc4d34d4d8fec9ced48bdc2c444', 2)"
     ]
    }
   ],
   "source": [
    "with temp_default_client(c_local):\n",
    "    data_db.map(partial(compute_periods, alpha=0.5)).compute()"
   ]
  },
  {
   "cell_type": "code",
   "execution_count": null,
   "id": "7931669a-12cf-428d-a98f-5cbb007f52ad",
   "metadata": {},
   "outputs": [],
   "source": []
  },
  {
   "cell_type": "markdown",
   "id": "67213f19",
   "metadata": {},
   "source": [
    "## Ex 3.a: distribute and measure the duration of the of compute_period function on the remote cluster\n",
    "- also check the period distribution plot "
   ]
  },
  {
   "cell_type": "code",
   "execution_count": null,
   "id": "fc4246d7",
   "metadata": {},
   "outputs": [],
   "source": [
    "libpath = \"lib.288931.so\"\n",
    "run_shell(['gcc', '--shared', '-fPIC', '-o', \"/tmp/\" + libpath, 'src.C'])\n",
    "c_distributed.upload_file(\"/tmp/\" + libpath)"
   ]
  },
  {
   "cell_type": "markdown",
   "id": "95e15ca4",
   "metadata": {},
   "source": [
    "## Ex 4. (BONUS): Execute the steps of ex 1 and 2 (with local dask) on an argo workflow\n",
    "\n",
    "- Running the get_period task after the first preprocessing is done.\n",
    "- Store the period plot on minio"
   ]
  },
  {
   "cell_type": "code",
   "execution_count": null,
   "id": "984b2e93",
   "metadata": {},
   "outputs": [],
   "source": []
  }
 ],
 "metadata": {
  "kernelspec": {
   "display_name": "Python 3 (ipykernel)",
   "language": "python",
   "name": "python3"
  },
  "language_info": {
   "codemirror_mode": {
    "name": "ipython",
    "version": 3
   },
   "file_extension": ".py",
   "mimetype": "text/x-python",
   "name": "python",
   "nbconvert_exporter": "python",
   "pygments_lexer": "ipython3",
   "version": "3.10.8"
  }
 },
 "nbformat": 4,
 "nbformat_minor": 5
}
